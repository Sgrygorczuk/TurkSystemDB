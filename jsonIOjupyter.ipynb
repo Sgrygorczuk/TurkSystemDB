{
 "cells": [
  {
   "cell_type": "markdown",
   "metadata": {},
   "source": [
    "### 1. Read from json"
   ]
  },
  {
   "cell_type": "code",
   "execution_count": 9,
   "metadata": {},
   "outputs": [
    {
     "name": "stdout",
     "output_type": "stream",
     "text": [
      "{'usercredentials': [{'id': 1, 'username': 'SammyShark', 'password': 'Indian'}, {'id': 2, 'username': 'JesseOctopus', 'password': 'Pacific'}, {'id': 3, 'username': 'DrewSquid', 'password': 'Atlantic'}, {'id': 4, 'username': 'JamieMantisShrimp', 'password': 'Pacific'}], 'users': [{'id': 1, 'type': 'developer', 'status': 'active', 'balance': 100}, {'id': 2, 'type': 'developer', 'status': 'temp', 'balance': 0}, {'id': 3, 'type': 'client', 'status': 'active', 'balance': 100}, {'id': 4, 'type': 'client', 'status': 'blackisted', 'balance': 200}], 'userinfo': [{'id': 1, 'resume': 'resume1.pdf', 'picture': 'pic1.png', 'interest': 'testing the project', 'rating': 3, 'projectIds': [11, 22, 33], 'activeProject': 33}, {'id': 2, 'resume': 'resume2.pdf', 'picture': 'pic2.png', 'interest': 'testing the project2', 'rating': 3, 'projectIds': [11, 22, 33], 'activeProject': 33}, {'id': 3, 'resume': 'resume3.pdf', 'picture': 'pic3.png', 'interest': 'testing the project3', 'rating': 3, 'projectIds': [11, 22, 33], 'activeProject': 33}, {'id': 4, 'resume': 'resume4.pdf', 'picture': 'pic4.png', 'interest': 'testing the project4', 'rating': 3, 'projectIds': [11, 22, 33], 'activeProject': 33}]}\n"
     ]
    }
   ],
   "source": [
    "data = {}\n",
    "with open('database.json', 'r') as f:\n",
    "    data.update(json.load(f))\n",
    "    print(data)"
   ]
  },
  {
   "cell_type": "markdown",
   "metadata": {},
   "source": [
    "### 2. Write into json"
   ]
  },
  {
   "cell_type": "code",
   "execution_count": 35,
   "metadata": {},
   "outputs": [],
   "source": [
    "with open('users.json','w') as f:\n",
    "    json.dump(data, f)"
   ]
  },
  {
   "cell_type": "code",
   "execution_count": 9,
   "metadata": {},
   "outputs": [],
   "source": [
    "import json"
   ]
  },
  {
   "cell_type": "markdown",
   "metadata": {},
   "source": [
    "### create DB.json - test with project.json"
   ]
  },
  {
   "cell_type": "code",
   "execution_count": 10,
   "metadata": {},
   "outputs": [],
   "source": [
    "# create a json file named \"DB.json\"\n",
    "# pre: DB is a database name - eg. projects, users ...\n",
    "# post: \"DB.json\" file created on the same directory of this program\n",
    "def create_DB(DB):\n",
    "    with open(DB+'.json', 'w') as f:\n",
    "        json.dump({DB:[]}, f)    # {\"projects\": []} \n",
    "        \n",
    "create_DB(\"projects\")\n",
    "# create_DB(\"users\")\n",
    "create_DB(\"bidDB\")\n",
    "create_DB(\"taskDB\")"
   ]
  },
  {
   "cell_type": "markdown",
   "metadata": {},
   "source": [
    "### read rows from DB.json - test with project.json"
   ]
  },
  {
   "cell_type": "code",
   "execution_count": 11,
   "metadata": {},
   "outputs": [],
   "source": [
    "# read rows from DB.json\n",
    "# pre: DB.json exists on the same directory\n",
    "# post: returns [{row1}, {row2}, ...] in the DB.json if DB.json exists.\n",
    "#       Otherwise, return [].\n",
    "def read_rows(DB):\n",
    "    rows = None\n",
    "    try:\n",
    "        with open(DB+'.json', 'r') as f:\n",
    "            rows = json.load(f)[DB]     # [{row1}, {row2}, ...]\n",
    "    except FileNotFoundError:\n",
    "        print(\"file named \"+DB+\".json doesn't exist in the current folder.\" )\n",
    "    return rows"
   ]
  },
  {
   "cell_type": "code",
   "execution_count": 15,
   "metadata": {},
   "outputs": [
    {
     "data": {
      "text/plain": [
       "[{'clientId': 3,\n",
       "  'description': 'testing project 1',\n",
       "  'developerId': 1,\n",
       "  'endDate': 11282017,\n",
       "  'id': 11,\n",
       "  'startDate': 11012017,\n",
       "  'status': 'active',\n",
       "  'title': 'project 1'},\n",
       " {'clientId': 4,\n",
       "  'description': 'testing project 2',\n",
       "  'developerId': 1,\n",
       "  'endDate': 10282017,\n",
       "  'id': 22,\n",
       "  'startDate': 10012017,\n",
       "  'status': 'active',\n",
       "  'title': 'project 2'}]"
      ]
     },
     "execution_count": 15,
     "metadata": {},
     "output_type": "execute_result"
    }
   ],
   "source": [
    "read_rows(\"projects\")"
   ]
  },
  {
   "cell_type": "code",
   "execution_count": 16,
   "metadata": {},
   "outputs": [
    {
     "name": "stdout",
     "output_type": "stream",
     "text": [
      "file named project.json doesn't exist in the current folder.\n",
      "None\n"
     ]
    }
   ],
   "source": [
    "print(read_rows(\"project\"))"
   ]
  },
  {
   "cell_type": "markdown",
   "metadata": {},
   "source": [
    "### add a row into DB.json - test adding a project into the project.json"
   ]
  },
  {
   "cell_type": "code",
   "execution_count": 12,
   "metadata": {},
   "outputs": [],
   "source": [
    "# pre: DB.json exist in the same folder. Otherwise it creates new DB.json\n",
    "#      new_row is a valid row in the DB.json\n",
    "# post: add the new_row into DB.json and return the new_row if all preconditions satisfies.\n",
    "#       Otherwise, return None\n",
    "def add_row(DB, new_row):\n",
    "    # read rows from json DB\n",
    "    rows = read_rows(DB)\n",
    "    \n",
    "    if rows == None: # if DB.json doesn't exist:\n",
    "        create_DB(DB)\n",
    "        rows = []\n",
    "        \n",
    "    # check if the row exists   \n",
    "    for item in rows:\n",
    "        if item[\"id\"] == new_row[\"id\"]: # all our database tables has a \"id\" attribute\n",
    "            print(\"item already exist on the json\")\n",
    "            return None\n",
    "    else:\n",
    "        # add the row\n",
    "        rows.append(new_row)\n",
    "        new_DB = {DB: rows}\n",
    "        # update json\n",
    "        with open(DB+'.json', 'w') as f:\n",
    "            json.dump(new_DB, f)\n",
    "    return new_row"
   ]
  },
  {
   "cell_type": "code",
   "execution_count": 13,
   "metadata": {},
   "outputs": [
    {
     "data": {
      "text/plain": [
       "{'clientId': 3,\n",
       " 'description': 'testing project 1',\n",
       " 'developerId': 1,\n",
       " 'endDate': 11282017,\n",
       " 'id': 11,\n",
       " 'startDate': 11012017,\n",
       " 'status': 'active',\n",
       " 'title': 'project 1'}"
      ]
     },
     "execution_count": 13,
     "metadata": {},
     "output_type": "execute_result"
    }
   ],
   "source": [
    "project1 = {\"id\":11, \"clientId\":3, \"developerId\":1, \"title\":\"project 1\", \"description\":\"testing project 1\", \n",
    "            \"startDate\":11012017, \"endDate\":11282017, \"status\":\"active\"}\n",
    "add_row(\"projects\",project1)"
   ]
  },
  {
   "cell_type": "code",
   "execution_count": 14,
   "metadata": {},
   "outputs": [
    {
     "data": {
      "text/plain": [
       "{'clientId': 4,\n",
       " 'description': 'testing project 2',\n",
       " 'developerId': 1,\n",
       " 'endDate': 10282017,\n",
       " 'id': 22,\n",
       " 'startDate': 10012017,\n",
       " 'status': 'active',\n",
       " 'title': 'project 2'}"
      ]
     },
     "execution_count": 14,
     "metadata": {},
     "output_type": "execute_result"
    }
   ],
   "source": [
    "project2 = {\"id\":22, \"clientId\":4, \"developerId\":1, \"title\":\"project 2\", \"description\":\"testing project 2\", \n",
    "            \"startDate\":10012017, \"endDate\":10282017, \"status\":\"active\"}\n",
    "add_row(\"projects\", project2)"
   ]
  },
  {
   "cell_type": "code",
   "execution_count": 23,
   "metadata": {},
   "outputs": [
    {
     "data": {
      "text/plain": [
       "{'clientId': 3,\n",
       " 'description': 'testing project 1',\n",
       " 'developerId': 1,\n",
       " 'endDate': 11282017,\n",
       " 'id': 11,\n",
       " 'startDate': 11012017,\n",
       " 'status': 'active',\n",
       " 'title': 'project 1'}"
      ]
     },
     "execution_count": 23,
     "metadata": {},
     "output_type": "execute_result"
    }
   ],
   "source": [
    "add_row(\"test\", project1)"
   ]
  },
  {
   "cell_type": "markdown",
   "metadata": {},
   "source": [
    "### push(DB, *args)"
   ]
  },
  {
   "cell_type": "code",
   "execution_count": 212,
   "metadata": {},
   "outputs": [],
   "source": [
    "# pre: no rows with the id on args exist in the DB.json # DB = bidDB or taskDB\n",
    "# post: add a row with passed in args into DB.json and the new row is returned. \n",
    "#       if args length is different from the number of attributes of DB, returns None.\n",
    "def push(DB, *args):\n",
    "    new_row = None\n",
    "    if (DB == \"bidDB\"):\n",
    "        if (len(args) != 5):\n",
    "            return None\n",
    "        # args == [id, client_id, start_date, end_date, bid_log]\n",
    "        new_row = {\"id\":args[0], \"client_id\":args[1], \"start_date\":args[2], \"end_date\":args[3], \"bid_log\":args[4]}\n",
    "        add_row(DB, new_row)\n",
    "    elif (DB == \"taskDB\"):\n",
    "        if (len(args) != 4):\n",
    "            return None\n",
    "        # args == [id, user_id, issue_desc, resolved]\n",
    "        new_row = {\"id\":args[0], \"user_id\":args[1], \"issue_desc\":args[2], \"resolved\":args[3]}\n",
    "        add_row(DB, new_row)\n",
    "    else: \n",
    "        print(\"push() for \" + DB + \" has not defined yet. - Eunjung -\" )\n",
    "    return new_row"
   ]
  },
  {
   "cell_type": "code",
   "execution_count": 213,
   "metadata": {},
   "outputs": [
    {
     "data": {
      "text/plain": [
       "{'bid_log': 'this is test for bid 1',\n",
       " 'client_id': 3,\n",
       " 'end_date': 11222017,\n",
       " 'id': 111,\n",
       " 'start_date': 10222017}"
      ]
     },
     "execution_count": 213,
     "metadata": {},
     "output_type": "execute_result"
    }
   ],
   "source": [
    "push(\"bidDB\", 111, 3, 10222017, 11222017, \"this is test for bid 1\")"
   ]
  },
  {
   "cell_type": "code",
   "execution_count": 214,
   "metadata": {},
   "outputs": [
    {
     "data": {
      "text/plain": [
       "{'id': 333,\n",
       " 'issue_desc': 'this user test description',\n",
       " 'resolved': 'resolved',\n",
       " 'user_id': 2}"
      ]
     },
     "execution_count": 214,
     "metadata": {},
     "output_type": "execute_result"
    }
   ],
   "source": [
    "push(\"taskDB\", 333, 2, \"this user test description\", \"resolved\")"
   ]
  },
  {
   "cell_type": "code",
   "execution_count": 216,
   "metadata": {},
   "outputs": [
    {
     "name": "stdout",
     "output_type": "stream",
     "text": [
      "push() for users has not defined yet. - Eunjung -\n",
      "None\n"
     ]
    }
   ],
   "source": [
    "print(push(\"users\", \"testing\", \"to fail\"))"
   ]
  },
  {
   "cell_type": "markdown",
   "metadata": {},
   "source": [
    "### remove a row from DB.json - test removing a project from the project.json"
   ]
  },
  {
   "cell_type": "code",
   "execution_count": 129,
   "metadata": {},
   "outputs": [],
   "source": [
    "# remove a row from a DB\n",
    "# if multiple rows with the id exists, it removes all the rows\n",
    "def del_row(DB, id):\n",
    "    # read rows from json DB\n",
    "    rows = read_rows(DB)\n",
    "    \n",
    "    # remove a row with passed in 'id'\n",
    "    filtered_rows = list(filter(lambda item: item['id'] != id, rows))\n",
    "    \n",
    "    # update json\n",
    "    new_DB = {DB: filtered_rows}\n",
    "    with open(DB+'.json', 'w') as f:\n",
    "        json.dump(new_DB, f)\n",
    "    \n",
    "    # return the number of rows that were removed\n",
    "    return len(rows)-len(filtered_rows)"
   ]
  },
  {
   "cell_type": "code",
   "execution_count": 146,
   "metadata": {},
   "outputs": [
    {
     "data": {
      "text/plain": [
       "1"
      ]
     },
     "execution_count": 146,
     "metadata": {},
     "output_type": "execute_result"
    }
   ],
   "source": [
    "del_row(\"projects\", 11)"
   ]
  },
  {
   "cell_type": "code",
   "execution_count": 131,
   "metadata": {},
   "outputs": [
    {
     "data": {
      "text/plain": [
       "0"
      ]
     },
     "execution_count": 131,
     "metadata": {},
     "output_type": "execute_result"
    }
   ],
   "source": [
    "del_row(\"projects\", 11)"
   ]
  },
  {
   "cell_type": "code",
   "execution_count": 17,
   "metadata": {},
   "outputs": [],
   "source": [
    "# # remove a row from a DB --- old version\n",
    "# def del_row(DB, row):\n",
    "#     # read rows from json DB\n",
    "#     rows = read_rows(DB)\n",
    "\n",
    "#     # check if the row exists   \n",
    "#     for item in rows:\n",
    "#         if item[\"id\"] == row[\"id\"]: # all our database tables has a \"id\" attribute\n",
    "#             # find the row by id\n",
    "#             print('remove a row with id = ', row['id'])\n",
    "#             rows.remove(row)\n",
    "#             new_DB = {DB: rows}\n",
    "#             with open(DB+'.json', 'w') as f:\n",
    "#                 json.dump(new_DB, f)\n",
    "#             break\n",
    "#     else:\n",
    "#         print(\"the row doesn't exist in\" + DB)"
   ]
  },
  {
   "cell_type": "markdown",
   "metadata": {},
   "source": [
    "### get a row from DB.json - test getting projects by id from the project.json"
   ]
  },
  {
   "cell_type": "code",
   "execution_count": 78,
   "metadata": {},
   "outputs": [],
   "source": [
    "def get_row(DB, id):\n",
    "    # read rows from json DB\n",
    "    rows = read_rows(DB)\n",
    "    \n",
    "    # row with passed in 'id'\n",
    "    filtered_row = list(filter(lambda item: item['id'] == id, rows))\n",
    "    \n",
    "    if len(filtered_row) == 0:\n",
    "        return None\n",
    "    else:\n",
    "        return filtered_row[0]"
   ]
  },
  {
   "cell_type": "code",
   "execution_count": 79,
   "metadata": {},
   "outputs": [
    {
     "data": {
      "text/plain": [
       "{'clientId': 4,\n",
       " 'description': 'testing project 2',\n",
       " 'developerId': 1,\n",
       " 'endDate': 10282017,\n",
       " 'id': 22,\n",
       " 'startDate': 10012017,\n",
       " 'status': 'active',\n",
       " 'title': 'project 2'}"
      ]
     },
     "execution_count": 79,
     "metadata": {},
     "output_type": "execute_result"
    }
   ],
   "source": [
    "get_row(\"projects\", 22)"
   ]
  },
  {
   "cell_type": "code",
   "execution_count": 94,
   "metadata": {},
   "outputs": [
    {
     "name": "stdout",
     "output_type": "stream",
     "text": [
      "None\n"
     ]
    }
   ],
   "source": [
    "print(get_row(\"projects\", 11111)) # should return None"
   ]
  },
  {
   "cell_type": "markdown",
   "metadata": {},
   "source": [
    "### get a value that corresponds to the key from a row with id in the DB.json"
   ]
  },
  {
   "cell_type": "code",
   "execution_count": 95,
   "metadata": {},
   "outputs": [],
   "source": [
    "def get_value(DB, id, key):\n",
    "    row = get_row(DB, id)\n",
    "    if(row == None):\n",
    "        return None\n",
    "    else:\n",
    "        try:\n",
    "            return row[key]\n",
    "        except KeyError:\n",
    "            return None"
   ]
  },
  {
   "cell_type": "code",
   "execution_count": 96,
   "metadata": {},
   "outputs": [
    {
     "data": {
      "text/plain": [
       "'active'"
      ]
     },
     "execution_count": 96,
     "metadata": {},
     "output_type": "execute_result"
    }
   ],
   "source": [
    "get_value(\"projects\", 22, 'status')"
   ]
  },
  {
   "cell_type": "code",
   "execution_count": 97,
   "metadata": {},
   "outputs": [
    {
     "name": "stdout",
     "output_type": "stream",
     "text": [
      "None\n"
     ]
    }
   ],
   "source": [
    "print(get_value(\"projects\", 1111, 'status'))"
   ]
  },
  {
   "cell_type": "code",
   "execution_count": 98,
   "metadata": {},
   "outputs": [
    {
     "name": "stdout",
     "output_type": "stream",
     "text": [
      "None\n"
     ]
    }
   ],
   "source": [
    "print(get_value(\"projects\", 22, 's'))"
   ]
  },
  {
   "cell_type": "markdown",
   "metadata": {},
   "source": [
    "### get the last id in the DB.json"
   ]
  },
  {
   "cell_type": "code",
   "execution_count": 19,
   "metadata": {},
   "outputs": [],
   "source": [
    "def get_last_id(DB):\n",
    "    rows = read_rows(DB)\n",
    "    if (len(rows) == 0):\n",
    "        return 0\n",
    "    else:\n",
    "        ids = list(map(lambda row: row[\"id\"], rows)) # extract a list of id\n",
    "        return max(ids)"
   ]
  },
  {
   "cell_type": "code",
   "execution_count": 20,
   "metadata": {},
   "outputs": [
    {
     "data": {
      "text/plain": [
       "22"
      ]
     },
     "execution_count": 20,
     "metadata": {},
     "output_type": "execute_result"
    }
   ],
   "source": [
    "get_last_id(\"projects\")"
   ]
  },
  {
   "cell_type": "code",
   "execution_count": 21,
   "metadata": {},
   "outputs": [
    {
     "name": "stdout",
     "output_type": "stream",
     "text": [
      "None\n"
     ]
    }
   ],
   "source": [
    "print(get_last_id(\"users\"))"
   ]
  },
  {
   "cell_type": "markdown",
   "metadata": {},
   "source": [
    "### update a row with new value for an attribute"
   ]
  },
  {
   "cell_type": "code",
   "execution_count": 178,
   "metadata": {},
   "outputs": [],
   "source": [
    "# pre: DB.json exist, \n",
    "#      id, key, attribute are valid in the DB\n",
    "# post: if there is a row in DB like below, update the row and return the new row\n",
    "#      {\"id\":id, \"key\":old_attribute, ... } -> {\"id\":id, \"key\":new_attribute, ... } \n",
    "#      Otherwise, return None\n",
    "def set_row(DB, id, key, new_attribute):\n",
    "    row = get_row(DB, id)\n",
    "    if (row == None):\n",
    "        return None\n",
    "    else:\n",
    "        # validate \"key\"\n",
    "        if (key not in row.keys()):\n",
    "            return None\n",
    "        \n",
    "        # update a row\n",
    "        row[key] = new_attribute\n",
    "        \n",
    "        # update DB\n",
    "        del_row(DB, id)\n",
    "        rows = read_rows(DB)\n",
    "        rows.append(row)\n",
    "        \n",
    "        # update json\n",
    "        new_DB = {DB: rows}\n",
    "        with open(DB+'.json', 'w') as f:\n",
    "            json.dump(new_DB, f)\n",
    "            \n",
    "        return row"
   ]
  },
  {
   "cell_type": "code",
   "execution_count": 174,
   "metadata": {},
   "outputs": [
    {
     "data": {
      "text/plain": [
       "'active'"
      ]
     },
     "execution_count": 174,
     "metadata": {},
     "output_type": "execute_result"
    }
   ],
   "source": [
    "get_value(\"projects\", 22, 'status')"
   ]
  },
  {
   "cell_type": "code",
   "execution_count": 175,
   "metadata": {},
   "outputs": [
    {
     "name": "stdout",
     "output_type": "stream",
     "text": [
      "None\n"
     ]
    }
   ],
   "source": [
    "print(set_row(\"projects\", 22, 's', 'blacklisted'))"
   ]
  },
  {
   "cell_type": "code",
   "execution_count": 180,
   "metadata": {},
   "outputs": [
    {
     "name": "stdout",
     "output_type": "stream",
     "text": [
      "{'id': 22, 'clientId': 4, 'developerId': 1, 'title': 'project 2', 'description': 'testing project 2', 'startDate': 10012017, 'endDate': 10282017, 'status': 'active'}\n"
     ]
    }
   ],
   "source": [
    "print(set_row(\"projects\", 22, 'status', 'active'))"
   ]
  },
  {
   "cell_type": "code",
   "execution_count": 181,
   "metadata": {},
   "outputs": [
    {
     "data": {
      "text/plain": [
       "'active'"
      ]
     },
     "execution_count": 181,
     "metadata": {},
     "output_type": "execute_result"
    }
   ],
   "source": [
    "get_value(\"projects\", 22, 'status')"
   ]
  },
  {
   "cell_type": "markdown",
   "metadata": {},
   "source": [
    "### find all rows with { ... \"key\" : attribute ...} in DB.json"
   ]
  },
  {
   "cell_type": "code",
   "execution_count": 190,
   "metadata": {},
   "outputs": [],
   "source": [
    "# pre: DB.json exists\n",
    "#      key and attribute are valid in DB \n",
    "# post: return a list of rows that has attribute as its key value in DB\n",
    "#       [{ ... \"key\" : attribute ...} ,  { ... \"key\" : attribute ...} , ... ]\n",
    "#       if no such row exists in DB, [] will be returned.\n",
    "def get_rows(DB, key, attribute, reversed = False):\n",
    "    # read rows from json DB\n",
    "    rows = read_rows(DB)\n",
    "    \n",
    "    # find rows whose key value is attribute\n",
    "    try:\n",
    "        filtered_row = list(filter(lambda item: item[key] == attribute, rows))\n",
    "    except KeyError:\n",
    "        return []\n",
    "    \n",
    "    if (reversed):\n",
    "        filtered_row.reverse()\n",
    "    return filtered_row"
   ]
  },
  {
   "cell_type": "code",
   "execution_count": 194,
   "metadata": {},
   "outputs": [
    {
     "data": {
      "text/plain": [
       "[{'clientId': 3,\n",
       "  'description': 'testing project 1',\n",
       "  'developerId': 1,\n",
       "  'endDate': 11282017,\n",
       "  'id': 11,\n",
       "  'startDate': 11012017,\n",
       "  'status': 'active',\n",
       "  'title': 'project 1'},\n",
       " {'clientId': 4,\n",
       "  'description': 'testing project 2',\n",
       "  'developerId': 1,\n",
       "  'endDate': 10282017,\n",
       "  'id': 22,\n",
       "  'startDate': 10012017,\n",
       "  'status': 'active',\n",
       "  'title': 'project 2'}]"
      ]
     },
     "execution_count": 194,
     "metadata": {},
     "output_type": "execute_result"
    }
   ],
   "source": [
    "get_rows(\"projects\", 'status', 'active')"
   ]
  },
  {
   "cell_type": "code",
   "execution_count": 188,
   "metadata": {},
   "outputs": [
    {
     "data": {
      "text/plain": [
       "[{'clientId': 4,\n",
       "  'description': 'testing project 2',\n",
       "  'developerId': 1,\n",
       "  'endDate': 10282017,\n",
       "  'id': 22,\n",
       "  'startDate': 10012017,\n",
       "  'status': 'active',\n",
       "  'title': 'project 2'},\n",
       " {'clientId': 3,\n",
       "  'description': 'testing project 1',\n",
       "  'developerId': 1,\n",
       "  'endDate': 11282017,\n",
       "  'id': 11,\n",
       "  'startDate': 11012017,\n",
       "  'status': 'active',\n",
       "  'title': 'project 1'}]"
      ]
     },
     "execution_count": 188,
     "metadata": {},
     "output_type": "execute_result"
    }
   ],
   "source": [
    "get_rows(\"projects\", 'status', 'active', True)"
   ]
  },
  {
   "cell_type": "code",
   "execution_count": 195,
   "metadata": {},
   "outputs": [
    {
     "data": {
      "text/plain": [
       "[]"
      ]
     },
     "execution_count": 195,
     "metadata": {},
     "output_type": "execute_result"
    }
   ],
   "source": [
    "get_rows(\"projects\", 'st', 'act')"
   ]
  },
  {
   "cell_type": "code",
   "execution_count": null,
   "metadata": {},
   "outputs": [],
   "source": []
  }
 ],
 "metadata": {
  "kernelspec": {
   "display_name": "Python 3",
   "language": "python",
   "name": "python3"
  },
  "language_info": {
   "codemirror_mode": {
    "name": "ipython",
    "version": 3
   },
   "file_extension": ".py",
   "mimetype": "text/x-python",
   "name": "python",
   "nbconvert_exporter": "python",
   "pygments_lexer": "ipython3",
   "version": "3.6.3"
  }
 },
 "nbformat": 4,
 "nbformat_minor": 2
}
