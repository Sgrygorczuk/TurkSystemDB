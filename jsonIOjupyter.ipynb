{
 "cells": [
  {
   "cell_type": "markdown",
   "metadata": {},
   "source": [
    "### 1. Read from json"
   ]
  },
  {
   "cell_type": "code",
   "execution_count": 14,
   "metadata": {},
   "outputs": [],
   "source": [
    "data = {}\n",
    "with open('database.json', 'r') as f:\n",
    "    data.update(json.load(f))\n",
    "    print(data)"
   ]
  },
  {
   "cell_type": "markdown",
   "metadata": {},
   "source": [
    "### 2. Write into json"
   ]
  },
  {
   "cell_type": "code",
   "execution_count": 35,
   "metadata": {},
   "outputs": [],
   "source": [
    "with open('users.json','w') as f:\n",
    "    json.dump(data, f)"
   ]
  },
  {
   "cell_type": "markdown",
   "metadata": {},
   "source": [
    "# jsonIO.py"
   ]
  },
  {
   "cell_type": "code",
   "execution_count": 3,
   "metadata": {},
   "outputs": [],
   "source": [
    "import json"
   ]
  },
  {
   "cell_type": "markdown",
   "metadata": {},
   "source": [
    "### create DB.json - test with project.json"
   ]
  },
  {
   "cell_type": "code",
   "execution_count": 4,
   "metadata": {},
   "outputs": [
    {
     "name": "stdout",
     "output_type": "stream",
     "text": [
      "created project_db.json\n"
     ]
    }
   ],
   "source": [
    "# create a json file named \"DB.json\"\n",
    "# pre: DB is a database name - eg. project_db, user_db, ...\n",
    "# post: \"DB.json\" file created on the same directory of this program\n",
    "def create_DB(DB):\n",
    "    with open(DB+'.json', 'w') as f:\n",
    "        json.dump({DB:[]}, f)    # {\"DB\": []} \n",
    "        print('created '+DB+'.json')\n",
    "        \n",
    "# create_DB(\"project_db\")\n",
    "# create_DB(\"user_db\")\n",
    "# create_DB(\"bid_db\")\n",
    "# create_DB(\"task_db\")"
   ]
  },
  {
   "cell_type": "markdown",
   "metadata": {},
   "source": [
    "### read rows from DB.json - test with project.json"
   ]
  },
  {
   "cell_type": "code",
   "execution_count": 5,
   "metadata": {},
   "outputs": [],
   "source": [
    "# read rows from DB.json\n",
    "# pre: DB.json exists on the same directory\n",
    "# post: returns [{row1}, {row2}, ...] or [] if DB.json exists.\n",
    "#       return None otherwise.\n",
    "def read_rows(DB):\n",
    "    rows = None\n",
    "    try:\n",
    "        with open(DB+'.json', 'r') as f:\n",
    "            rows = json.load(f)[DB]     # [{row1}, {row2}, ...]\n",
    "    except FileNotFoundError:\n",
    "        print(\"file named \"+DB+\".json doesn't exist in the current folder.\" )\n",
    "    return rows"
   ]
  },
  {
   "cell_type": "code",
   "execution_count": 6,
   "metadata": {},
   "outputs": [
    {
     "data": {
      "text/plain": [
       "[]"
      ]
     },
     "execution_count": 6,
     "metadata": {},
     "output_type": "execute_result"
    }
   ],
   "source": [
    "read_rows(\"project_db\")"
   ]
  },
  {
   "cell_type": "code",
   "execution_count": 7,
   "metadata": {},
   "outputs": [
    {
     "name": "stdout",
     "output_type": "stream",
     "text": [
      "file named not_exist.json doesn't exist in the current folder.\n"
     ]
    }
   ],
   "source": [
    "read_rows(\"not_exist\") # return None"
   ]
  },
  {
   "cell_type": "markdown",
   "metadata": {},
   "source": [
    "### add a row into DB.json - test adding a project into the project.json"
   ]
  },
  {
   "cell_type": "code",
   "execution_count": 8,
   "metadata": {},
   "outputs": [],
   "source": [
    "# pre: DB.json exist in the same folder. Otherwise it creates new DB.json\n",
    "#      new_row is a valid row in the DB.json\n",
    "# post: add the new_row into DB.json and return the new_row if all preconditions satisfies.\n",
    "#       Otherwise, return None\n",
    "def add_row(DB, new_row):\n",
    "    # read rows from json DB\n",
    "    rows = read_rows(DB)\n",
    "    \n",
    "    # if DB.json doesn't exist, create DB.json\n",
    "    if rows == None: \n",
    "        create_DB(DB)\n",
    "        rows = []\n",
    "        \n",
    "    # check if the row exists   \n",
    "    for item in rows:\n",
    "        if item[\"id\"] == new_row[\"id\"]: # all our database tables has a \"id\" attribute\n",
    "            print(\"id:\"+str(new_row[\"id\"])+\" already exist on the json. Update using set_row(DB, id, key, new_value)\")\n",
    "            return None\n",
    "    else:\n",
    "        # add the row\n",
    "        rows.append(new_row)\n",
    "        new_DB = {DB: rows}\n",
    "        # update json\n",
    "        with open(DB+'.json', 'w') as f:\n",
    "            json.dump(new_DB, f)\n",
    "    return new_row"
   ]
  },
  {
   "cell_type": "code",
   "execution_count": 71,
   "metadata": {},
   "outputs": [
    {
     "data": {
      "text/plain": [
       "{'clientId': 3,\n",
       " 'description': 'testing project 1',\n",
       " 'developerId': 1,\n",
       " 'endDate': 11282017,\n",
       " 'id': 11,\n",
       " 'startDate': 11012017,\n",
       " 'status': 'active',\n",
       " 'title': 'project 1'}"
      ]
     },
     "execution_count": 71,
     "metadata": {},
     "output_type": "execute_result"
    }
   ],
   "source": [
    "project1 = {\"id\":11, \"clientId\":3, \"developerId\":1, \"title\":\"project 1\", \"description\":\"testing project 1\", \n",
    "            \"startDate\":11012017, \"endDate\":11282017, \"status\":\"active\"}\n",
    "add_row(\"project_db\",project1)"
   ]
  },
  {
   "cell_type": "code",
   "execution_count": 72,
   "metadata": {},
   "outputs": [
    {
     "name": "stdout",
     "output_type": "stream",
     "text": [
      "id:22 already exist on the json. Update using set_row(DB, id, key, new_attribute)\n"
     ]
    }
   ],
   "source": [
    "project2 = {\"id\":22, \"clientId\":4, \"developerId\":1, \"title\":\"project 2\", \"description\":\"testing project 2\", \n",
    "            \"startDate\":10012017, \"endDate\":10282017, \"status\":\"active\"}\n",
    "add_row(\"project_db\", project2)"
   ]
  },
  {
   "cell_type": "code",
   "execution_count": 12,
   "metadata": {},
   "outputs": [
    {
     "name": "stdout",
     "output_type": "stream",
     "text": [
      "id:22 already exist on the json. Update using set_row(DB, id, key, new_attribute)\n"
     ]
    }
   ],
   "source": [
    "add_row(\"project_db\", project2)"
   ]
  },
  {
   "cell_type": "code",
   "execution_count": 16,
   "metadata": {},
   "outputs": [
    {
     "name": "stdout",
     "output_type": "stream",
     "text": [
      "file named not_exist.json doesn't exist in the current folder.\n",
      "created not_exist.json\n"
     ]
    },
    {
     "data": {
      "text/plain": [
       "{'clientId': 3,\n",
       " 'description': 'testing project 1',\n",
       " 'developerId': 1,\n",
       " 'endDate': 11282017,\n",
       " 'id': 11,\n",
       " 'startDate': 11012017,\n",
       " 'status': 'active',\n",
       " 'title': 'project 1'}"
      ]
     },
     "execution_count": 16,
     "metadata": {},
     "output_type": "execute_result"
    }
   ],
   "source": [
    "add_row(\"new_db\", project1)"
   ]
  },
  {
   "cell_type": "markdown",
   "metadata": {},
   "source": [
    "### push(DB, *args)"
   ]
  },
  {
   "cell_type": "code",
   "execution_count": 15,
   "metadata": {},
   "outputs": [],
   "source": [
    "# pre: no rows with the id on args exist in the DB.json # DB = bidDB or taskDB\n",
    "# post: add a row with passed in args into DB.json and the new row is returned. \n",
    "#       if args length is different from the number of attributes of DB, returns None.\n",
    "# def push(DB, *args):\n",
    "#     new_row = None\n",
    "#     if (DB == \"bidDB\"):\n",
    "#         if (len(args) != 5):\n",
    "#             return None\n",
    "#         # args == [id, client_id, start_date, end_date, bid_log]\n",
    "#         new_row = {\"id\":args[0], \"client_id\":args[1], \"start_date\":args[2], \"end_date\":args[3], \"bid_log\":args[4]}\n",
    "#         add_row(DB, new_row)\n",
    "#     elif (DB == \"taskDB\"):\n",
    "#         if (len(args) != 4):\n",
    "#             return None\n",
    "#         # args == [id, user_id, issue_desc, resolved]\n",
    "#         new_row = {\"id\":args[0], \"user_id\":args[1], \"issue_desc\":args[2], \"resolved\":args[3]}\n",
    "#         add_row(DB, new_row)\n",
    "#     else: \n",
    "#         print(\"push() for \" + DB + \" has not defined yet. - Eunjung -\" )\n",
    "#     return new_row"
   ]
  },
  {
   "cell_type": "code",
   "execution_count": 16,
   "metadata": {},
   "outputs": [],
   "source": [
    "# push(\"bidDB\", 111, 3, 10222017, 11222017, \"this is test for bid 1\")"
   ]
  },
  {
   "cell_type": "code",
   "execution_count": 17,
   "metadata": {},
   "outputs": [],
   "source": [
    "# push(\"taskDB\", 333, 2, \"this user test description\", \"resolved\")"
   ]
  },
  {
   "cell_type": "code",
   "execution_count": 18,
   "metadata": {},
   "outputs": [],
   "source": [
    "# print(push(\"users\", \"testing\", \"to fail\"))"
   ]
  },
  {
   "cell_type": "markdown",
   "metadata": {},
   "source": [
    "### remove a row from DB.json - test removing a project from the project.json"
   ]
  },
  {
   "cell_type": "code",
   "execution_count": 17,
   "metadata": {},
   "outputs": [],
   "source": [
    "# remove a row from a DB\n",
    "# if multiple rows with the id exists, it removes all the rows\n",
    "def del_row(DB, id):\n",
    "    # read rows from json DB\n",
    "    rows = read_rows(DB)\n",
    "    \n",
    "    # if DB.json doesn't exist, nothing is removed.\n",
    "    if rows == None: \n",
    "        return 0 \n",
    "    \n",
    "    # remove a row with passed in 'id'\n",
    "    filtered_rows = list(filter(lambda item: item['id'] != id, rows))\n",
    "    \n",
    "    # update json\n",
    "    new_DB = {DB: filtered_rows}\n",
    "    with open(DB+'.json', 'w') as f:\n",
    "        json.dump(new_DB, f)\n",
    "    \n",
    "    # return the number of rows that were removed\n",
    "    return len(rows)-len(filtered_rows)"
   ]
  },
  {
   "cell_type": "code",
   "execution_count": 82,
   "metadata": {},
   "outputs": [
    {
     "data": {
      "text/plain": [
       "0"
      ]
     },
     "execution_count": 82,
     "metadata": {},
     "output_type": "execute_result"
    }
   ],
   "source": [
    "del_row(\"project_db\", 11)"
   ]
  },
  {
   "cell_type": "code",
   "execution_count": 81,
   "metadata": {},
   "outputs": [
    {
     "name": "stdout",
     "output_type": "stream",
     "text": [
      "file named not_exist.json doesn't exist in the current folder.\n"
     ]
    },
    {
     "data": {
      "text/plain": [
       "0"
      ]
     },
     "execution_count": 81,
     "metadata": {},
     "output_type": "execute_result"
    }
   ],
   "source": [
    "del_row(\"not_exist\", 11)"
   ]
  },
  {
   "cell_type": "code",
   "execution_count": 17,
   "metadata": {},
   "outputs": [],
   "source": [
    "# # remove a row from a DB --- old version\n",
    "# def del_row(DB, row):\n",
    "#     # read rows from json DB\n",
    "#     rows = read_rows(DB)\n",
    "\n",
    "#     # check if the row exists   \n",
    "#     for item in rows:\n",
    "#         if item[\"id\"] == row[\"id\"]: # all our database tables has a \"id\" attribute\n",
    "#             # find the row by id\n",
    "#             print('remove a row with id = ', row['id'])\n",
    "#             rows.remove(row)\n",
    "#             new_DB = {DB: rows}\n",
    "#             with open(DB+'.json', 'w') as f:\n",
    "#                 json.dump(new_DB, f)\n",
    "#             break\n",
    "#     else:\n",
    "#         print(\"the row doesn't exist in\" + DB)"
   ]
  },
  {
   "cell_type": "markdown",
   "metadata": {},
   "source": [
    "### get a row from DB.json - test getting projects by id from the project.json"
   ]
  },
  {
   "cell_type": "code",
   "execution_count": 22,
   "metadata": {},
   "outputs": [],
   "source": [
    "def get_row(DB, id):\n",
    "    # read rows from json DB\n",
    "    rows = read_rows(DB)\n",
    "    if rows == None:\n",
    "        return None\n",
    "    \n",
    "    # row with passed in 'id'\n",
    "    filtered_row = list(filter(lambda item: item['id'] == id, rows))\n",
    "    \n",
    "    if len(filtered_row) == 0:\n",
    "        return None\n",
    "    else:\n",
    "        return filtered_row[0]"
   ]
  },
  {
   "cell_type": "code",
   "execution_count": 25,
   "metadata": {},
   "outputs": [
    {
     "data": {
      "text/plain": [
       "{'clientId': 4,\n",
       " 'description': 'testing project 2',\n",
       " 'developerId': 1,\n",
       " 'endDate': 10282017,\n",
       " 'id': 22,\n",
       " 'startDate': 10012017,\n",
       " 'status': 'active',\n",
       " 'title': 'project 2'}"
      ]
     },
     "execution_count": 25,
     "metadata": {},
     "output_type": "execute_result"
    }
   ],
   "source": [
    "get_row(\"project_db\", 22)"
   ]
  },
  {
   "cell_type": "code",
   "execution_count": 27,
   "metadata": {},
   "outputs": [],
   "source": [
    "get_row(\"project_db\", 11111) # return None"
   ]
  },
  {
   "cell_type": "code",
   "execution_count": 31,
   "metadata": {},
   "outputs": [
    {
     "name": "stdout",
     "output_type": "stream",
     "text": [
      "file named not_exist.json doesn't exist in the current folder.\n"
     ]
    }
   ],
   "source": [
    "get_row(\"not_exist\", 123) # return None"
   ]
  },
  {
   "cell_type": "markdown",
   "metadata": {},
   "source": [
    "### get a value that corresponds to the key from a row with id in the DB.json"
   ]
  },
  {
   "cell_type": "code",
   "execution_count": 45,
   "metadata": {},
   "outputs": [],
   "source": [
    "def get_value(DB, id, key):\n",
    "    row = get_row(DB, id)\n",
    "    if(row == None):\n",
    "        return None\n",
    "    else:\n",
    "        try:\n",
    "            return row[key]\n",
    "        except KeyError: # if key is not the attribute name on the DB.json\n",
    "            return None"
   ]
  },
  {
   "cell_type": "code",
   "execution_count": 46,
   "metadata": {},
   "outputs": [
    {
     "data": {
      "text/plain": [
       "'active'"
      ]
     },
     "execution_count": 46,
     "metadata": {},
     "output_type": "execute_result"
    }
   ],
   "source": [
    "get_value(\"project_db\", 22, 'status')"
   ]
  },
  {
   "cell_type": "code",
   "execution_count": 47,
   "metadata": {},
   "outputs": [],
   "source": [
    "get_value(\"project_db\", 1111, 'status') # return None"
   ]
  },
  {
   "cell_type": "code",
   "execution_count": 48,
   "metadata": {},
   "outputs": [],
   "source": [
    "get_value(\"project_db\", 22, 's') # return None"
   ]
  },
  {
   "cell_type": "markdown",
   "metadata": {},
   "source": [
    "### get the last id in the DB.json"
   ]
  },
  {
   "cell_type": "code",
   "execution_count": 50,
   "metadata": {},
   "outputs": [],
   "source": [
    "def get_last_id(DB):\n",
    "    rows = read_rows(DB)\n",
    "    if (rows == None or len(rows) == 0):\n",
    "        return 0\n",
    "    else:\n",
    "        ids = list(map(lambda row: row[\"id\"], rows)) # extract a list of id\n",
    "        return max(ids)"
   ]
  },
  {
   "cell_type": "code",
   "execution_count": 52,
   "metadata": {},
   "outputs": [
    {
     "data": {
      "text/plain": [
       "22"
      ]
     },
     "execution_count": 52,
     "metadata": {},
     "output_type": "execute_result"
    }
   ],
   "source": [
    "get_last_id(\"project_db\")"
   ]
  },
  {
   "cell_type": "code",
   "execution_count": 53,
   "metadata": {},
   "outputs": [
    {
     "name": "stdout",
     "output_type": "stream",
     "text": [
      "file named not_exist.json doesn't exist in the current folder.\n",
      "0\n"
     ]
    }
   ],
   "source": [
    "print(get_last_id(\"not_exist\"))"
   ]
  },
  {
   "cell_type": "markdown",
   "metadata": {},
   "source": [
    "### update a row with new value for an attribute"
   ]
  },
  {
   "cell_type": "code",
   "execution_count": 58,
   "metadata": {},
   "outputs": [],
   "source": [
    "# pre: DB.json exist, \n",
    "#      id, key, attribute are valid in the DB\n",
    "# post: if there is a row in DB like below, update the row and return the new row\n",
    "#      {\"id\":id, \"key\":old_value, ... } -> {\"id\":id, \"key\":new_value, ... } \n",
    "#      Otherwise, return None\n",
    "def set_row(DB, id, key, new_value):\n",
    "    row = get_row(DB, id)\n",
    "    if (row == None):\n",
    "        return None\n",
    "    else:\n",
    "        # validate \"key\"\n",
    "        if (key not in row.keys()):\n",
    "            return None\n",
    "        \n",
    "        # update a row\n",
    "        row[key] = new_value\n",
    "        \n",
    "        # update DB\n",
    "        del_row(DB, id)\n",
    "        rows = read_rows(DB)\n",
    "        rows.append(row)\n",
    "        \n",
    "        # update json\n",
    "        new_DB = {DB: rows}\n",
    "        with open(DB+'.json', 'w') as f:\n",
    "            json.dump(new_DB, f)\n",
    "            \n",
    "        return row"
   ]
  },
  {
   "cell_type": "code",
   "execution_count": 59,
   "metadata": {},
   "outputs": [
    {
     "data": {
      "text/plain": [
       "'active'"
      ]
     },
     "execution_count": 59,
     "metadata": {},
     "output_type": "execute_result"
    }
   ],
   "source": [
    "get_value(\"project_db\", 22, 'status')"
   ]
  },
  {
   "cell_type": "code",
   "execution_count": 60,
   "metadata": {},
   "outputs": [],
   "source": [
    "set_row(\"project_db\", 22, 's', 'blacklisted') # return None"
   ]
  },
  {
   "cell_type": "code",
   "execution_count": 62,
   "metadata": {},
   "outputs": [
    {
     "data": {
      "text/plain": [
       "{'clientId': 4,\n",
       " 'description': 'testing project 2',\n",
       " 'developerId': 1,\n",
       " 'endDate': 10282017,\n",
       " 'id': 22,\n",
       " 'startDate': 10012017,\n",
       " 'status': 'blacklisted',\n",
       " 'title': 'project 2'}"
      ]
     },
     "execution_count": 62,
     "metadata": {},
     "output_type": "execute_result"
    }
   ],
   "source": [
    "set_row(\"project_db\", 22, 'status', 'blacklisted')"
   ]
  },
  {
   "cell_type": "code",
   "execution_count": 76,
   "metadata": {},
   "outputs": [
    {
     "data": {
      "text/plain": [
       "{'clientId': 4,\n",
       " 'description': 'testing project 2',\n",
       " 'developerId': 1,\n",
       " 'endDate': 10282017,\n",
       " 'id': 22,\n",
       " 'startDate': 10012017,\n",
       " 'status': 'active',\n",
       " 'title': 'project 2'}"
      ]
     },
     "execution_count": 76,
     "metadata": {},
     "output_type": "execute_result"
    }
   ],
   "source": [
    "set_row(\"project_db\", 22, 'status', 'active')"
   ]
  },
  {
   "cell_type": "markdown",
   "metadata": {},
   "source": [
    "### find all rows with { ... \"key\" : value ...} in DB.json"
   ]
  },
  {
   "cell_type": "code",
   "execution_count": 73,
   "metadata": {},
   "outputs": [],
   "source": [
    "# pre: DB.json exists\n",
    "#      key and value are valid in DB \n",
    "# post: return a list of rows that has key:value in DB\n",
    "#       [{ ... \"key\" : value ...} ,  { ... \"key\" : value ...} , ... ]\n",
    "#       if no such row exists in DB, [] will be returned.\n",
    "def get_rows(DB, key, value, reversed = False):\n",
    "    # read rows from json DB\n",
    "    rows = read_rows(DB)\n",
    "    if rows == None:\n",
    "        return []\n",
    "    \n",
    "    # find rows whose key is value\n",
    "    try:\n",
    "        filtered_row = list(filter(lambda item: item[key] == value, rows))\n",
    "    except KeyError:\n",
    "        return []\n",
    "    \n",
    "    if (reversed):\n",
    "        filtered_row.reverse()\n",
    "        \n",
    "    return filtered_row"
   ]
  },
  {
   "cell_type": "code",
   "execution_count": 77,
   "metadata": {},
   "outputs": [
    {
     "data": {
      "text/plain": [
       "[{'clientId': 3,\n",
       "  'description': 'testing project 1',\n",
       "  'developerId': 1,\n",
       "  'endDate': 11282017,\n",
       "  'id': 11,\n",
       "  'startDate': 11012017,\n",
       "  'status': 'active',\n",
       "  'title': 'project 1'},\n",
       " {'clientId': 4,\n",
       "  'description': 'testing project 2',\n",
       "  'developerId': 1,\n",
       "  'endDate': 10282017,\n",
       "  'id': 22,\n",
       "  'startDate': 10012017,\n",
       "  'status': 'active',\n",
       "  'title': 'project 2'}]"
      ]
     },
     "execution_count": 77,
     "metadata": {},
     "output_type": "execute_result"
    }
   ],
   "source": [
    "get_rows(\"project_db\", 'status', 'active')"
   ]
  },
  {
   "cell_type": "code",
   "execution_count": 78,
   "metadata": {},
   "outputs": [
    {
     "data": {
      "text/plain": [
       "[{'clientId': 4,\n",
       "  'description': 'testing project 2',\n",
       "  'developerId': 1,\n",
       "  'endDate': 10282017,\n",
       "  'id': 22,\n",
       "  'startDate': 10012017,\n",
       "  'status': 'active',\n",
       "  'title': 'project 2'},\n",
       " {'clientId': 3,\n",
       "  'description': 'testing project 1',\n",
       "  'developerId': 1,\n",
       "  'endDate': 11282017,\n",
       "  'id': 11,\n",
       "  'startDate': 11012017,\n",
       "  'status': 'active',\n",
       "  'title': 'project 1'}]"
      ]
     },
     "execution_count": 78,
     "metadata": {},
     "output_type": "execute_result"
    }
   ],
   "source": [
    "get_rows(\"project_db\", 'status', 'active', True)"
   ]
  },
  {
   "cell_type": "code",
   "execution_count": 80,
   "metadata": {},
   "outputs": [
    {
     "data": {
      "text/plain": [
       "[]"
      ]
     },
     "execution_count": 80,
     "metadata": {},
     "output_type": "execute_result"
    }
   ],
   "source": [
    "get_rows(\"project_db\", 'st', 'act')"
   ]
  },
  {
   "cell_type": "code",
   "execution_count": null,
   "metadata": {},
   "outputs": [],
   "source": []
  }
 ],
 "metadata": {
  "kernelspec": {
   "display_name": "Python 3",
   "language": "python",
   "name": "python3"
  },
  "language_info": {
   "codemirror_mode": {
    "name": "ipython",
    "version": 3
   },
   "file_extension": ".py",
   "mimetype": "text/x-python",
   "name": "python",
   "nbconvert_exporter": "python",
   "pygments_lexer": "ipython3",
   "version": "3.6.3"
  }
 },
 "nbformat": 4,
 "nbformat_minor": 2
}
