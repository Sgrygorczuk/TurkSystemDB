{
 "cells": [
  {
   "cell_type": "code",
   "execution_count": 1,
   "metadata": {},
   "outputs": [],
   "source": [
    "import json"
   ]
  },
  {
   "cell_type": "markdown",
   "metadata": {},
   "source": [
    "### 1. Read from json"
   ]
  },
  {
   "cell_type": "code",
   "execution_count": 9,
   "metadata": {},
   "outputs": [
    {
     "name": "stdout",
     "output_type": "stream",
     "text": [
      "{'usercredentials': [{'id': 1, 'username': 'SammyShark', 'password': 'Indian'}, {'id': 2, 'username': 'JesseOctopus', 'password': 'Pacific'}, {'id': 3, 'username': 'DrewSquid', 'password': 'Atlantic'}, {'id': 4, 'username': 'JamieMantisShrimp', 'password': 'Pacific'}], 'users': [{'id': 1, 'type': 'developer', 'status': 'active', 'balance': 100}, {'id': 2, 'type': 'developer', 'status': 'temp', 'balance': 0}, {'id': 3, 'type': 'client', 'status': 'active', 'balance': 100}, {'id': 4, 'type': 'client', 'status': 'blackisted', 'balance': 200}], 'userinfo': [{'id': 1, 'resume': 'resume1.pdf', 'picture': 'pic1.png', 'interest': 'testing the project', 'rating': 3, 'projectIds': [11, 22, 33], 'activeProject': 33}, {'id': 2, 'resume': 'resume2.pdf', 'picture': 'pic2.png', 'interest': 'testing the project2', 'rating': 3, 'projectIds': [11, 22, 33], 'activeProject': 33}, {'id': 3, 'resume': 'resume3.pdf', 'picture': 'pic3.png', 'interest': 'testing the project3', 'rating': 3, 'projectIds': [11, 22, 33], 'activeProject': 33}, {'id': 4, 'resume': 'resume4.pdf', 'picture': 'pic4.png', 'interest': 'testing the project4', 'rating': 3, 'projectIds': [11, 22, 33], 'activeProject': 33}]}\n"
     ]
    }
   ],
   "source": [
    "data = {}\n",
    "with open('database.json', 'r') as f:\n",
    "    data.update(json.load(f))\n",
    "    print(data)"
   ]
  },
  {
   "cell_type": "markdown",
   "metadata": {},
   "source": [
    "### 2. Write into json"
   ]
  },
  {
   "cell_type": "code",
   "execution_count": 35,
   "metadata": {},
   "outputs": [],
   "source": [
    "with open('users.json','w') as f:\n",
    "    json.dump(data, f)"
   ]
  },
  {
   "cell_type": "markdown",
   "metadata": {},
   "source": [
    "### create DB.json - test with project.json"
   ]
  },
  {
   "cell_type": "code",
   "execution_count": 11,
   "metadata": {},
   "outputs": [],
   "source": [
    "# create a json file named \"DB.json\"\n",
    "# pre: DB is a database name - eg. projects, users ...\n",
    "# post: \"DB.json\" file created on the same directory of this program\n",
    "def create_DB(DB):\n",
    "    with open(DB+'.json', 'w') as f:\n",
    "        json.dump({DB:[]}, f)    # {\"projects\": []} \n",
    "        \n",
    "create_DB(\"projects\")\n",
    "# create_DB(\"users\")\n",
    "# create_DB(\"bids\")"
   ]
  },
  {
   "cell_type": "markdown",
   "metadata": {},
   "source": [
    "### read rows from DB.json - test with project.json"
   ]
  },
  {
   "cell_type": "code",
   "execution_count": 12,
   "metadata": {},
   "outputs": [],
   "source": [
    "# read rows from DB.json\n",
    "# pre: DB.json exists on the same directory\n",
    "# post: returns [{row1}, {row2}, ...]\n",
    "def read_rows(DB):\n",
    "    rows = []\n",
    "    with open(DB+'.json', 'r') as f:\n",
    "        rows = json.load(f)[DB]     # [{row1}, {row2}, ...]\n",
    "    return rows"
   ]
  },
  {
   "cell_type": "code",
   "execution_count": 28,
   "metadata": {},
   "outputs": [
    {
     "name": "stdout",
     "output_type": "stream",
     "text": [
      "[{'id': 22, 'clientId': 4, 'developerId': 1, 'title': 'project 2', 'description': 'testing project 2', 'startDate': 10012017, 'endDate': 10282017, 'status': 'active'}]\n"
     ]
    }
   ],
   "source": [
    "print(read_rows(\"projects\"))"
   ]
  },
  {
   "cell_type": "markdown",
   "metadata": {},
   "source": [
    "### add a row into DB.json - test adding a project into the project.json"
   ]
  },
  {
   "cell_type": "code",
   "execution_count": 13,
   "metadata": {},
   "outputs": [],
   "source": [
    "# DB = \"projects\"\n",
    "# row1 = {\"projectId\":11, \"clientId\":3, ... \"status\":\"active\"}\n",
    "# DB.json = { \"DB\": [{row1}, {row2}, ...] }\n",
    "\n",
    "def add_row(DB, row):\n",
    "    # read rows from json DB\n",
    "    rows = read_rows(DB)\n",
    "\n",
    "    # check if the row exists   \n",
    "    for item in rows:\n",
    "        if item[\"id\"] == row[\"id\"]: # all our database tables has a \"id\" attribute\n",
    "            print(\"item already exist on the json\")\n",
    "            break\n",
    "    else:\n",
    "        # add the row\n",
    "        rows.append(row)\n",
    "        new_DB = {DB: rows}\n",
    "        # update json\n",
    "        with open(DB+'.json', 'w') as f:\n",
    "            json.dump(new_DB, f)"
   ]
  },
  {
   "cell_type": "code",
   "execution_count": 29,
   "metadata": {},
   "outputs": [],
   "source": [
    "project1 = {\"id\":11, \"clientId\":3, \"developerId\":1, \"title\":\"project 1\", \"description\":\"testing project 1\", \n",
    "            \"startDate\":11012017, \"endDate\":11282017, \"status\":\"active\"}\n",
    "add_row(\"projects\",project1)"
   ]
  },
  {
   "cell_type": "code",
   "execution_count": 15,
   "metadata": {},
   "outputs": [],
   "source": [
    "project2 = {\"id\":22, \"clientId\":4, \"developerId\":1, \"title\":\"project 2\", \"description\":\"testing project 2\", \n",
    "            \"startDate\":10012017, \"endDate\":10282017, \"status\":\"active\"}\n",
    "add_row(\"projects\", project2)"
   ]
  },
  {
   "cell_type": "code",
   "execution_count": 16,
   "metadata": {},
   "outputs": [
    {
     "name": "stdout",
     "output_type": "stream",
     "text": [
      "item already exist on the json\n"
     ]
    }
   ],
   "source": [
    "add_row(\"projects\", project1)"
   ]
  },
  {
   "cell_type": "markdown",
   "metadata": {},
   "source": [
    "### remove a row from DB.json - test removing a project from the project.json"
   ]
  },
  {
   "cell_type": "code",
   "execution_count": 17,
   "metadata": {},
   "outputs": [],
   "source": [
    "# remove a row from a DB\n",
    "def del_row(DB, row):\n",
    "    # read rows from json DB\n",
    "    rows = read_rows(DB)\n",
    "\n",
    "    # check if the row exists   \n",
    "    for item in rows:\n",
    "        if item[\"id\"] == row[\"id\"]: # all our database tables has a \"id\" attribute\n",
    "            # find the row by id\n",
    "            print('remove a row with id = ', row['id'])\n",
    "            rows.remove(row)\n",
    "            new_DB = {DB: rows}\n",
    "            with open(DB+'.json', 'w') as f:\n",
    "                json.dump(new_DB, f)\n",
    "            break\n",
    "    else:\n",
    "        print(\"the row doesn't exist in\" + DB)"
   ]
  },
  {
   "cell_type": "code",
   "execution_count": 18,
   "metadata": {},
   "outputs": [
    {
     "name": "stdout",
     "output_type": "stream",
     "text": [
      "remove a row with id =  11\n"
     ]
    }
   ],
   "source": [
    "del_row(\"projects\", project1)"
   ]
  },
  {
   "cell_type": "code",
   "execution_count": 19,
   "metadata": {},
   "outputs": [
    {
     "name": "stdout",
     "output_type": "stream",
     "text": [
      "the row doesn't exist inprojects\n"
     ]
    }
   ],
   "source": [
    "del_row(\"projects\", project1)"
   ]
  },
  {
   "cell_type": "markdown",
   "metadata": {},
   "source": [
    "### select rows from DB.json - test getting projects by id from the project.json"
   ]
  },
  {
   "cell_type": "code",
   "execution_count": 22,
   "metadata": {},
   "outputs": [],
   "source": [
    "def get_rows(DB, id):\n",
    "    # read rows from json DB\n",
    "    rows = read_rows(DB)\n",
    "    \n",
    "    # rows with passed in 'id'\n",
    "    filtered_rows = list(filter(lambda item: item['id'] == id, rows))\n",
    "    return filtered_rows"
   ]
  },
  {
   "cell_type": "code",
   "execution_count": 26,
   "metadata": {},
   "outputs": [
    {
     "data": {
      "text/plain": [
       "[{'clientId': 4,\n",
       "  'description': 'testing project 2',\n",
       "  'developerId': 1,\n",
       "  'endDate': 10282017,\n",
       "  'id': 22,\n",
       "  'startDate': 10012017,\n",
       "  'status': 'active',\n",
       "  'title': 'project 2'}]"
      ]
     },
     "execution_count": 26,
     "metadata": {},
     "output_type": "execute_result"
    }
   ],
   "source": [
    "get_rows(\"projects\", 22)"
   ]
  },
  {
   "cell_type": "code",
   "execution_count": 27,
   "metadata": {},
   "outputs": [
    {
     "data": {
      "text/plain": [
       "[]"
      ]
     },
     "execution_count": 27,
     "metadata": {},
     "output_type": "execute_result"
    }
   ],
   "source": [
    "get_rows(\"projects\", 11111) # should return []"
   ]
  },
  {
   "cell_type": "code",
   "execution_count": null,
   "metadata": {},
   "outputs": [],
   "source": []
  }
 ],
 "metadata": {
  "kernelspec": {
   "display_name": "Python 3",
   "language": "python",
   "name": "python3"
  },
  "language_info": {
   "codemirror_mode": {
    "name": "ipython",
    "version": 3
   },
   "file_extension": ".py",
   "mimetype": "text/x-python",
   "name": "python",
   "nbconvert_exporter": "python",
   "pygments_lexer": "ipython3",
   "version": "3.6.3"
  }
 },
 "nbformat": 4,
 "nbformat_minor": 2
}
